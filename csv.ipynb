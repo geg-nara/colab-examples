{
  "nbformat": 4,
  "nbformat_minor": 0,
  "metadata": {
    "colab": {
      "name": "csv.ipynb",
      "provenance": [],
      "collapsed_sections": [],
      "authorship_tag": "ABX9TyOW+IVQ2xRI1wiM3ezxlL08",
      "include_colab_link": true
    },
    "kernelspec": {
      "name": "python3",
      "display_name": "Python 3"
    }
  },
  "cells": [
    {
      "cell_type": "markdown",
      "metadata": {
        "id": "view-in-github",
        "colab_type": "text"
      },
      "source": [
        "<a href=\"https://colab.research.google.com/github/t-cool/Projects/blob/master/csv.ipynb\" target=\"_parent\"><img src=\"https://colab.research.google.com/assets/colab-badge.svg\" alt=\"Open In Colab\"/></a>"
      ]
    },
    {
      "cell_type": "code",
      "metadata": {
        "id": "AME2Nhv6LTqU",
        "colab_type": "code",
        "colab": {
          "base_uri": "https://localhost:8080/",
          "height": 34
        },
        "outputId": "c23fd287-1890-4dde-ebe3-e41c5ab1a3c9"
      },
      "source": [
        "# sqlite3モジュールを読み込み\n",
        "import sqlite3\n",
        "sqlite_path = 'test.sqlite'\n",
        "\n",
        "# sqliteファイルへ接続\n",
        "# connectionオブジェクト経由でDB操作\n",
        "connection = sqlite3.connect(sqlite_path)\n",
        "\n",
        "# カーソルを取得\n",
        "cursor = connection.cursor()\n",
        "\n",
        "cursor.execute('CREATE TABLE Users (name string, age integer)')\n",
        "cursor.execute(\"INSERT INTO Users (name, age) VALUES('t-cool', 3)\")\n",
        "cursor.execute('SELECT * FROM users')\n",
        "\n",
        "# 全件取得は cursor.fetchall()\n",
        "# タプルのリストが返ってくる\n",
        "res = cursor.fetchall()\n",
        "print(res)\n",
        "connection.close()"
      ],
      "execution_count": 1,
      "outputs": [
        {
          "output_type": "stream",
          "text": [
            "[('t-cool', 3)]\n"
          ],
          "name": "stdout"
        }
      ]
    },
    {
      "cell_type": "code",
      "metadata": {
        "id": "JOyk4ftBLVEi",
        "colab_type": "code",
        "colab": {}
      },
      "source": [
        ""
      ],
      "execution_count": 0,
      "outputs": []
    }
  ]
}