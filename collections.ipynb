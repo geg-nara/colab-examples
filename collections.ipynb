{
  "nbformat": 4,
  "nbformat_minor": 0,
  "metadata": {
    "colab": {
      "name": "collections.ipynb",
      "provenance": [],
      "collapsed_sections": [],
      "authorship_tag": "ABX9TyMrlqTQP1xVibGOc1UEvap9",
      "include_colab_link": true
    },
    "kernelspec": {
      "name": "python3",
      "display_name": "Python 3"
    }
  },
  "cells": [
    {
      "cell_type": "markdown",
      "metadata": {
        "id": "view-in-github",
        "colab_type": "text"
      },
      "source": [
        "<a href=\"https://colab.research.google.com/github/t-cool/Projects/blob/master/collections.ipynb\" target=\"_parent\"><img src=\"https://colab.research.google.com/assets/colab-badge.svg\" alt=\"Open In Colab\"/></a>"
      ]
    },
    {
      "cell_type": "code",
      "metadata": {
        "id": "_efJkA-RImEn",
        "colab_type": "code",
        "outputId": "76f5b3d5-d18e-4e3e-cc75-0f569aa623e6",
        "colab": {
          "base_uri": "https://localhost:8080/",
          "height": 34
        }
      },
      "source": [
        "from collections import Counter, defaultdict, deque\n",
        "\n",
        "sales = ['茨城県', '栃木県', '群馬県', '埼玉県', '千葉県', '東京都', '神奈川県',\n",
        "         '東京都', '茨城県', '埼玉県', '埼玉県', '埼玉県', '神奈川県', '神奈川県',\n",
        "         '茨城県', '茨城県', '群馬県', '群馬県', '群馬県', '群馬県', '神奈川県',\n",
        "         '茨城県', '神奈川県', '栃木県', '千葉県', '千葉県', '埼玉県']\n",
        "\n",
        "counter = Counter(sales)\n",
        "\n",
        "print(counter)"
      ],
      "execution_count": 9,
      "outputs": [
        {
          "output_type": "stream",
          "text": [
            "Counter({'茨城県': 5, '群馬県': 5, '埼玉県': 5, '神奈川県': 5, '千葉県': 3, '栃木県': 2, '東京都': 2})\n"
          ],
          "name": "stdout"
        }
      ]
    },
    {
      "cell_type": "code",
      "metadata": {
        "id": "UEijcc6tIrwN",
        "colab_type": "code",
        "colab": {
          "base_uri": "https://localhost:8080/",
          "height": 34
        },
        "outputId": "f587b88a-ae59-4ba0-ad60-4979ab9ce03b"
      },
      "source": [
        "counter.most_common(2)"
      ],
      "execution_count": 4,
      "outputs": [
        {
          "output_type": "execute_result",
          "data": {
            "text/plain": [
              "[('茨城県', 5), ('群馬県', 5)]"
            ]
          },
          "metadata": {
            "tags": []
          },
          "execution_count": 4
        }
      ]
    },
    {
      "cell_type": "code",
      "metadata": {
        "id": "1cwVuKoHJCMH",
        "colab_type": "code",
        "colab": {
          "base_uri": "https://localhost:8080/",
          "height": 170
        },
        "outputId": "e9e65c4f-06eb-46a2-b084-466ea3c190d1"
      },
      "source": [
        "data = [('Alice', 'A'), ('Bob', 'B'), ('Carol', 'A'), ('Dave', 'B'), ('Bobby', 'C')]\n",
        "dd = defaultdict(list)\n",
        "for it in data:\n",
        "    dd[it[1]].append(it)\n",
        "    print(it)\n",
        "dd\n",
        "# Double Ended QUEue (両端キュー)"
      ],
      "execution_count": 13,
      "outputs": [
        {
          "output_type": "stream",
          "text": [
            "('Alice', 'A')\n",
            "('Bob', 'B')\n",
            "('Carol', 'A')\n",
            "('Dave', 'B')\n",
            "('Bobby', 'C')\n"
          ],
          "name": "stdout"
        },
        {
          "output_type": "execute_result",
          "data": {
            "text/plain": [
              "defaultdict(list,\n",
              "            {'A': [('Alice', 'A'), ('Carol', 'A')],\n",
              "             'B': [('Bob', 'B'), ('Dave', 'B')],\n",
              "             'C': [('Bobby', 'C')]})"
            ]
          },
          "metadata": {
            "tags": []
          },
          "execution_count": 13
        }
      ]
    },
    {
      "cell_type": "code",
      "metadata": {
        "id": "WKBP9VHEJCcL",
        "colab_type": "code",
        "colab": {}
      },
      "source": [
        "# Double Ended Queue (両端キュー)\n",
        "\n",
        "d = deque()"
      ],
      "execution_count": 0,
      "outputs": []
    },
    {
      "cell_type": "code",
      "metadata": {
        "id": "YO2xEC3Xzw5x",
        "colab_type": "code",
        "colab": {}
      },
      "source": [
        "d.append(1)"
      ],
      "execution_count": 0,
      "outputs": []
    },
    {
      "cell_type": "code",
      "metadata": {
        "id": "5-9awClu0ERT",
        "colab_type": "code",
        "colab": {}
      },
      "source": [
        "d.append(2)"
      ],
      "execution_count": 0,
      "outputs": []
    },
    {
      "cell_type": "code",
      "metadata": {
        "id": "t9mlymcc0FT3",
        "colab_type": "code",
        "colab": {
          "base_uri": "https://localhost:8080/",
          "height": 34
        },
        "outputId": "5f4b07d1-c4a5-4f3f-fef9-b5c3562c8dce"
      },
      "source": [
        "d"
      ],
      "execution_count": 17,
      "outputs": [
        {
          "output_type": "execute_result",
          "data": {
            "text/plain": [
              "deque([1, 2])"
            ]
          },
          "metadata": {
            "tags": []
          },
          "execution_count": 17
        }
      ]
    },
    {
      "cell_type": "code",
      "metadata": {
        "id": "2L4yl57k0Fmi",
        "colab_type": "code",
        "colab": {}
      },
      "source": [
        "d.appendleft(3)"
      ],
      "execution_count": 0,
      "outputs": []
    },
    {
      "cell_type": "code",
      "metadata": {
        "id": "DDn8ux6x0IOl",
        "colab_type": "code",
        "colab": {
          "base_uri": "https://localhost:8080/",
          "height": 34
        },
        "outputId": "0c2463af-d3f8-4761-ae0c-0c01f0e4983a"
      },
      "source": [
        "d"
      ],
      "execution_count": 19,
      "outputs": [
        {
          "output_type": "execute_result",
          "data": {
            "text/plain": [
              "deque([3, 1, 2])"
            ]
          },
          "metadata": {
            "tags": []
          },
          "execution_count": 19
        }
      ]
    },
    {
      "cell_type": "code",
      "metadata": {
        "id": "43pmpJHu0I0D",
        "colab_type": "code",
        "colab": {
          "base_uri": "https://localhost:8080/",
          "height": 34
        },
        "outputId": "3b0abe47-e039-4315-c6ea-70b0cbc4d4b8"
      },
      "source": [
        "d.pop()"
      ],
      "execution_count": 20,
      "outputs": [
        {
          "output_type": "execute_result",
          "data": {
            "text/plain": [
              "2"
            ]
          },
          "metadata": {
            "tags": []
          },
          "execution_count": 20
        }
      ]
    },
    {
      "cell_type": "code",
      "metadata": {
        "id": "72zAW4Oh0KjL",
        "colab_type": "code",
        "colab": {
          "base_uri": "https://localhost:8080/",
          "height": 34
        },
        "outputId": "9bbc2425-d9c5-494e-8f37-52fad8e12608"
      },
      "source": [
        "d"
      ],
      "execution_count": 21,
      "outputs": [
        {
          "output_type": "execute_result",
          "data": {
            "text/plain": [
              "deque([3, 1])"
            ]
          },
          "metadata": {
            "tags": []
          },
          "execution_count": 21
        }
      ]
    },
    {
      "cell_type": "code",
      "metadata": {
        "id": "PbV5HQXb0LRH",
        "colab_type": "code",
        "colab": {
          "base_uri": "https://localhost:8080/",
          "height": 34
        },
        "outputId": "817b33ba-749f-4625-db46-0effa3b508f0"
      },
      "source": [
        "d.popleft()"
      ],
      "execution_count": 22,
      "outputs": [
        {
          "output_type": "execute_result",
          "data": {
            "text/plain": [
              "3"
            ]
          },
          "metadata": {
            "tags": []
          },
          "execution_count": 22
        }
      ]
    },
    {
      "cell_type": "code",
      "metadata": {
        "id": "Wf34PeVq0Ngd",
        "colab_type": "code",
        "colab": {
          "base_uri": "https://localhost:8080/",
          "height": 34
        },
        "outputId": "1aa1b1a8-e86a-4190-f269-e365d985bc00"
      },
      "source": [
        "d"
      ],
      "execution_count": 23,
      "outputs": [
        {
          "output_type": "execute_result",
          "data": {
            "text/plain": [
              "deque([1])"
            ]
          },
          "metadata": {
            "tags": []
          },
          "execution_count": 23
        }
      ]
    },
    {
      "cell_type": "code",
      "metadata": {
        "id": "DQkTROST0ODe",
        "colab_type": "code",
        "colab": {}
      },
      "source": [
        ""
      ],
      "execution_count": 0,
      "outputs": []
    }
  ]
}