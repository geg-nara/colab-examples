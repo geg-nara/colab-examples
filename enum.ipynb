{
  "nbformat": 4,
  "nbformat_minor": 0,
  "metadata": {
    "colab": {
      "name": "enum.ipynb",
      "provenance": [],
      "authorship_tag": "ABX9TyOONCRgxXT7p0BB5a3JWtsW",
      "include_colab_link": true
    },
    "kernelspec": {
      "name": "python3",
      "display_name": "Python 3"
    }
  },
  "cells": [
    {
      "cell_type": "markdown",
      "metadata": {
        "id": "view-in-github",
        "colab_type": "text"
      },
      "source": [
        "<a href=\"https://colab.research.google.com/github/t-cool/Projects/blob/master/enum.ipynb\" target=\"_parent\"><img src=\"https://colab.research.google.com/assets/colab-badge.svg\" alt=\"Open In Colab\"/></a>"
      ]
    },
    {
      "cell_type": "code",
      "metadata": {
        "id": "oFRTgrA-VbS0",
        "colab_type": "code",
        "colab": {
          "base_uri": "https://localhost:8080/",
          "height": 51
        },
        "outputId": "a2670c59-d811-42c2-d4ba-6feb9ccee7d1"
      },
      "source": [
        "from datetime import date\n",
        "from enum import Enum\n",
        "\n",
        "class Wareki(Enum):\n",
        "    大正 = (1912, 7, 30)\n",
        "    昭和 = (1926, 12, 25)\n",
        "    平成 = (1989, 1, 8)\n",
        "    令和 = (2019, 5, 1)\n",
        "\n",
        "    def __init__(self, y, m, d):\n",
        "        self.start_date = date(y, m, d)\n",
        "\n",
        "    def to_japanese_era(y,m,d):\n",
        "        input_date = date(y,m,d)\n",
        "        for gengo in reversed(Wareki):\n",
        "            if input_date >= gengo.start_date:\n",
        "                n = y - gengo.start_date.year + 1\n",
        "                return f'{gengo.name}{n if n > 1 else \"元\"}年'\n",
        "        raise ValueError('大正以前')\n",
        "\n",
        "\n",
        "print(Wareki.to_japanese_era(2019, 4, 30))  # 平成31年\n",
        "print(Wareki.to_japanese_era(2019, 5, 1))  # 令和元年\n"
      ],
      "execution_count": 1,
      "outputs": [
        {
          "output_type": "stream",
          "text": [
            "平成31年\n",
            "令和元年\n"
          ],
          "name": "stdout"
        }
      ]
    }
  ]
}