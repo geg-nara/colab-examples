{
 "cells": [
  {
   "cell_type": "code",
   "execution_count": 8,
   "metadata": {},
   "outputs": [
    {
     "data": {
      "text/plain": "'desserts'"
     },
     "execution_count": 8,
     "metadata": {},
     "output_type": "execute_result"
    }
   ],
   "source": [
    "# https://qiita.com/moriwo/items/4fde7f725db215ce1a26\n",
    "\n",
    "# 00. 文字列の逆順\n",
    "# 文字列\"stressed\"の文字を逆に（末尾から先頭に向かって）並べた文字列を得よ\n",
    "def reverse(s: str):\n",
    "    \"\"\"\n",
    "    文字列を逆順にして返します.\n",
    "    >>> reverse('stressed')\n",
    "    'desserts'\n",
    "    \"\"\"\n",
    "    return s[::-1]\n",
    "\n",
    "reverse(\"stressed\")"
   ]
  },
  {
   "cell_type": "code",
   "execution_count": 2,
   "metadata": {},
   "outputs": [
    {
     "name": "stdout",
     "output_type": "stream",
     "text": "パトカー\n"
    },
    {
     "data": {
      "text/plain": "'パトカー'"
     },
     "execution_count": 2,
     "metadata": {},
     "output_type": "execute_result"
    }
   ],
   "source": [
    "# 01.「パタトクカシーー」\n",
    "# 「パタトクカシーー」という文字列の1,3,5,7文字目を取り出して連結した文字列を得よ．\n",
    "target = u'パタトクカシーー'\n",
    "print(target[::2])\n",
    "\n",
    "def take_even_pos(s: str):\n",
    "    \"\"\"\n",
    "    文字列の奇数文字目を取り出して連結した文字列を返します．\n",
    "    奇数文字目なので、インデックス的には偶数だけを出します\n",
    "    >>> take_even_pos('パタトクカシーー')\n",
    "    'パトカー'\n",
    "    \"\"\"\n",
    "    return ''.join(s[i] for i in range(0, len(s), 2))\n",
    "\n",
    "take_even_pos('パタトクカシーー') \n"
   ]
  },
  {
   "cell_type": "code",
   "execution_count": 3,
   "metadata": {},
   "outputs": [
    {
     "data": {
      "text/plain": "'パタトクカシーー'"
     },
     "execution_count": 3,
     "metadata": {},
     "output_type": "execute_result"
    }
   ],
   "source": [
    "# 02.「パトカー」＋「タクシー」＝「パタトクカシーー」\n",
    "# 「パトカー」＋「タクシー」の文字を先頭から交互に連結して文字列「パタトクカシーー」を得よ．\n",
    "\n",
    "def merge_two_strings(s1: str, s2: str):\n",
    "    \"\"\"\n",
    "    s1とs2の文字を交互に連結した文字列を返します\n",
    "    >>> merge_two_strings('パトカー', 'タクシー')\n",
    "    'パタトクカシーー'\n",
    "    \"\"\"\n",
    "    return ''.join(s1[i] + s2[i] for i in range(min(len(s1), len(s2)))) + s1[len(s2):] + s2[len(s1):]\n",
    "\n",
    "merge_two_strings('パトカー', 'タクシー')"
   ]
  },
  {
   "cell_type": "code",
   "execution_count": 4,
   "metadata": {},
   "outputs": [
    {
     "data": {
      "text/plain": "[3, 1, 4, 1, 5, 9, 2, 6, 5, 3, 5, 8, 9, 7, 9]"
     },
     "execution_count": 4,
     "metadata": {},
     "output_type": "execute_result"
    }
   ],
   "source": [
    "#03.円周率\n",
    "#\"Now I need a drink, alcoholic of course, after the heavy lectures involving quantum mechanics.\"という文を単語に分解し，各単語の（アルファベットの）文字数を先頭から出現順に並べたリストを作成せよ．\n",
    "\n",
    "def count_length_of_each_word(s: str):\n",
    "    \"\"\"\n",
    "    連続するアルファベット([a-zA-Z])の文字数をリストとして列挙します\n",
    "    >>> count_length_of_each_word('Now I need a drink, alcoholic of course, after the heavy lectures involving quantum mechanics.')\n",
    "    [3, 1, 4, 1, 5, 9, 2, 6, 5, 3, 5, 8, 9, 7, 9]\n",
    "    \"\"\"\n",
    "    import re\n",
    "    return list(len(m) for m in re.findall('[a-zA-Z]+', s))\n",
    "\n",
    "count_length_of_each_word('Now I need a drink, alcoholic of course, after the heavy lectures involving quantum mechanics.')"
   ]
  },
  {
   "cell_type": "code",
   "execution_count": 5,
   "metadata": {},
   "outputs": [
    {
     "data": {
      "text/plain": "{'H': 1,\n 'He': 2,\n 'Li': 3,\n 'Be': 4,\n 'B': 5,\n 'C': 6,\n 'N': 7,\n 'O': 8,\n 'F': 9,\n 'Ne': 10,\n 'Na': 11,\n 'Mi': 12,\n 'Al': 13,\n 'Si': 14,\n 'P': 15,\n 'S': 16,\n 'Cl': 17,\n 'Ar': 18,\n 'K': 19,\n 'Ca': 20}"
     },
     "execution_count": 5,
     "metadata": {},
     "output_type": "execute_result"
    }
   ],
   "source": [
    "# 04. 元素記号\n",
    "# \"Hi He Lied Because Boron Could Not Oxidize Fluorine. New Nations Might Also Sign Peace Security Clause. Arthur King Can.\"という文を単語に分解し，1, 5, 6, 7, 8, 9, 15, 16, 19番目の単語は先頭の1文字，それ以外の単語は先頭に2文字を取り出し，取り出した文字列から単語の位置（先頭から何番目の単語か）への連想配列（辞書型もしくはマップ型）を作成せよ．\n",
    "\n",
    "def atomic_symbols(s: str):\n",
    "    \"\"\"\n",
    "    単語に分解し，1, 5, 6, 7, 8, 9, 15, 16, 19番目の単語は先頭の1文字，それ以外の単語は先頭に2文字を取り出し，\n",
    "    取り出した文字列から単語の位置（先頭から何番目の単語か）への連想配列（辞書型もしくはマップ型）を返します\n",
    "    単語の1文字目は大文字であるという前提にします\n",
    "    >>> atomic_symbols('Hi He Lied Because Boron Could Not Oxidize Fluorine. New Nations Might Also Sign Peace Security Clause. Arthur King Can.')\n",
    "    {'H': 1, 'He': 2, 'Li': 3, 'Be': 4, 'B': 5, 'C': 6, 'N': 7, 'O': 8, 'F': 9, 'Ne': 10, 'Na': 11, 'Mi': 12, 'Al': 13, 'Si': 14, 'P': 15, 'S': 16, 'Cl': 17, 'Ar': 18, 'K': 19, 'Ca': 20}\n",
    "    \"\"\"\n",
    "    single_char_atomic_symbols = [1, 5, 6, 7, 8, 9, 15, 16, 19]\n",
    "    word_number = 0\n",
    "    result = {}\n",
    "\n",
    "    for i in range(len(s)):\n",
    "        if 'A' <= s[i] <= 'Z':  # 大文字だったらここから単語\n",
    "            word_number += 1  # 何番目の単語かカウント\n",
    "            if word_number in single_char_atomic_symbols:\n",
    "                # 1文字取る\n",
    "                word = s[i]\n",
    "            else:\n",
    "                # 2文字取る\n",
    "                word = s[i:i+2]\n",
    "            result[word] = word_number  # 連想配列に入れる\n",
    "\n",
    "    return result\n",
    "\n",
    "atomic_symbols('Hi He Lied Because Boron Could Not Oxidize Fluorine. New Nations Might Also Sign Peace Security Clause. Arthur King Can.')"
   ]
  },
  {
   "cell_type": "code",
   "execution_count": 6,
   "metadata": {},
   "outputs": [
    {
     "data": {
      "text/plain": "{'H': 1,\n 'He': 2,\n 'Li': 3,\n 'Be': 4,\n 'B': 5,\n 'C': 6,\n 'N': 7,\n 'O': 8,\n 'F': 9,\n 'Ne': 10,\n 'Na': 11,\n 'Mi': 12,\n 'Al': 13,\n 'Si': 14,\n 'P': 15,\n 'S': 16,\n 'Cl': 17,\n 'Ar': 18,\n 'K': 19,\n 'Ca': 20}"
     },
     "execution_count": 6,
     "metadata": {},
     "output_type": "execute_result"
    }
   ],
   "source": [
    "atomic_symbols('Hi He Lied Because Boron Could Not Oxidize Fluorine. New Nations Might Also Sign Peace Security Clause. Arthur King Can.')"
   ]
  },
  {
   "cell_type": "code",
   "execution_count": 2,
   "metadata": {},
   "outputs": [],
   "source": [
    "import flask"
   ]
  },
  {
   "cell_type": "code",
   "execution_count": null,
   "metadata": {},
   "outputs": [],
   "source": []
  }
 ],
 "metadata": {
  "kernelspec": {
   "display_name": "Python 3",
   "language": "python",
   "name": "python3"
  },
  "language_info": {
   "codemirror_mode": {
    "name": "ipython",
    "version": 3
   },
   "file_extension": ".py",
   "mimetype": "text/x-python",
   "name": "python",
   "nbconvert_exporter": "python",
   "pygments_lexer": "ipython3",
   "version": "3.8.0-final"
  }
 },
 "nbformat": 4,
 "nbformat_minor": 4
}