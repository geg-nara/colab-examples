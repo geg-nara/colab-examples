{
  "nbformat": 4,
  "nbformat_minor": 0,
  "metadata": {
    "colab": {
      "name": "pathlib.ipynb",
      "provenance": [],
      "collapsed_sections": [],
      "authorship_tag": "ABX9TyMLLgMoN8ABsBoKTORfAORZ",
      "include_colab_link": true
    },
    "kernelspec": {
      "name": "python3",
      "display_name": "Python 3"
    }
  },
  "cells": [
    {
      "cell_type": "markdown",
      "metadata": {
        "id": "view-in-github",
        "colab_type": "text"
      },
      "source": [
        "<a href=\"https://colab.research.google.com/github/t-cool/Projects/blob/master/pathlib.ipynb\" target=\"_parent\"><img src=\"https://colab.research.google.com/assets/colab-badge.svg\" alt=\"Open In Colab\"/></a>"
      ]
    },
    {
      "cell_type": "code",
      "metadata": {
        "id": "bkesFgCYWbLH",
        "colab_type": "code",
        "outputId": "5336b3e8-1be7-496d-e884-20d3468d1ce0",
        "colab": {
          "base_uri": "https://localhost:8080/",
          "height": 170
        }
      },
      "source": [
        "import os\n",
        "from pathlib import Path\n",
        "\n",
        "os.mkdir('input') # ディレクトリの作成\n",
        "\n",
        "p = Path('input')  # パスの作成\n",
        "print('p:', p)  # input\n",
        "print('p.exists():', p.exists())  # パスの存在確認: True\n",
        "print('p.is_file():', p.is_file())  # パスがファイルかどうか確認: False\n",
        "print('p.is_dir():', p.is_dir())  # パスがディレクトリーかどうか確認: True\n",
        "\n",
        "new_p = p / 'sub' / 'test.txt'  # パスの結合\n",
        "print('new_p.name:', new_p.name)  # ファイル名の取得: test.txt\n",
        "print('new_p.suffix:', new_p.suffix)  # 拡張子の取得: .txt\n",
        "print('new_p.stem:', new_p.stem)  # ファイル名の拡張子以外の部分の取得: test\n",
        "print('new_p.parts:', new_p.parts)  # パスを分解したものの取得: ('input', 'sub', 'test.txt')\n",
        "print('new_p.parent:', new_p.parent)  # 親ディレクトリーの取得: input/sub"
      ],
      "execution_count": 0,
      "outputs": [
        {
          "output_type": "stream",
          "text": [
            "p: input\n",
            "p.exists(): True\n",
            "p.is_file(): False\n",
            "p.is_dir(): True\n",
            "new_p.name: test.txt\n",
            "new_p.suffix: .txt\n",
            "new_p.stem: test\n",
            "new_p.parts: ('input', 'sub', 'test.txt')\n",
            "new_p.parent: input/sub\n"
          ],
          "name": "stdout"
        }
      ]
    },
    {
      "cell_type": "code",
      "metadata": {
        "id": "MRrJVMNmXLkm",
        "colab_type": "code",
        "outputId": "a0d6a7eb-778c-4ae7-fdce-3cdccf1366f2",
        "colab": {
          "base_uri": "https://localhost:8080/",
          "height": 34
        }
      },
      "source": [
        "from pathlib import Path\n",
        "\n",
        "\n",
        "# ファイルの書き込み\n",
        "p = Path('test.txt')\n",
        "p.write_text('TEST')\n",
        "\n",
        "# ファイルの読み込み\n",
        "print('Contents:', p.read_text())"
      ],
      "execution_count": 0,
      "outputs": [
        {
          "output_type": "stream",
          "text": [
            "Contents: TEST\n"
          ],
          "name": "stdout"
        }
      ]
    },
    {
      "cell_type": "code",
      "metadata": {
        "id": "3kBdfFN6XREv",
        "colab_type": "code",
        "outputId": "776b9c42-b455-4635-dcf2-1e172e04d010",
        "colab": {
          "base_uri": "https://localhost:8080/",
          "height": 51
        }
      },
      "source": [
        "from pathlib import Path\n",
        "\n",
        "# ファイルの走査\n",
        "p = Path('input')\n",
        "print(\"p.glob('*')\")\n",
        "\n",
        "for p_path in p.glob('*'):\n",
        "    print('- ', p_path)\n",
        "\n",
        "print(\"p.glob('**/*')\")\n",
        "\n",
        "for p_path in p.glob('**/*'):\n",
        "    print('- ', p_path)"
      ],
      "execution_count": 0,
      "outputs": [
        {
          "output_type": "stream",
          "text": [
            "p.glob('*')\n",
            "p.glob('**/*')\n"
          ],
          "name": "stdout"
        }
      ]
    },
    {
      "cell_type": "code",
      "metadata": {
        "id": "-pqzlQc8XcSs",
        "colab_type": "code",
        "colab": {}
      },
      "source": [
        ""
      ],
      "execution_count": 0,
      "outputs": []
    }
  ]
}